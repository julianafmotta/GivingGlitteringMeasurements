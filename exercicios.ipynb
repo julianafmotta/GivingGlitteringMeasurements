{
  "nbformat": 4,
  "nbformat_minor": 0,
  "metadata": {
    "colab": {
      "name": "aulas.ipynb",
      "provenance": [],
      "authorship_tag": "ABX9TyNcPr2PE1yEl5TmBmPXcj+D",
      "include_colab_link": true
    },
    "kernelspec": {
      "name": "python3",
      "display_name": "Python 3"
    }
  },
  "cells": [
    {
      "cell_type": "markdown",
      "metadata": {
        "id": "view-in-github",
        "colab_type": "text"
      },
      "source": [
        "<a href=\"https://colab.research.google.com/github/julianafmotta/ada/blob/master/exercicios.ipynb\" target=\"_parent\"><img src=\"https://colab.research.google.com/assets/colab-badge.svg\" alt=\"Open In Colab\"/></a>"
      ]
    },
    {
      "cell_type": "code",
      "metadata": {
        "colab": {
          "base_uri": "https://localhost:8080/"
        },
        "id": "NVp1ejZZhMbw",
        "outputId": "cf3c91cf-40fc-4735-b474-1c0a2eeeffa1"
      },
      "source": [
        "#print(type(primeiroNumero)) "
      ],
      "execution_count": null,
      "outputs": [
        {
          "output_type": "stream",
          "text": [
            "<class 'int'>\n"
          ],
          "name": "stdout"
        }
      ]
    },
    {
      "cell_type": "code",
      "metadata": {
        "id": "hKg6UfEMFQmP",
        "colab": {
          "base_uri": "https://localhost:8080/"
        },
        "outputId": "9edb49b4-72eb-4de7-849a-d4715d1e5519"
      },
      "source": [
        "print(\"Hello sunny world!\")\n",
        "nome = input ('qual é o seu nome?')\n",
        "idade = input ('qual é o sua idade ?')\n",
        "peso = input ('qual é o seu peso? ')\n",
        "print (nome,idade,peso)\n",
        "\n"
      ],
      "execution_count": null,
      "outputs": [
        {
          "output_type": "stream",
          "text": [
            "Hello sunny world!\n"
          ],
          "name": "stdout"
        }
      ]
    },
    {
      "cell_type": "code",
      "metadata": {
        "colab": {
          "base_uri": "https://localhost:8080/"
        },
        "id": "1Tx27X3uxbIj",
        "outputId": "ba9061f7-cf95-46cc-b4d4-057a2fdd6c3a"
      },
      "source": [
        "nome = input ('qual é o seu nome?')\n",
        "idade = input ('qual é o sua idade ?')\n",
        "peso = input ('qual é o seu peso? ')\n",
        "print(nome,idade,peso)\n"
      ],
      "execution_count": null,
      "outputs": [
        {
          "output_type": "stream",
          "text": [
            "qual é o seu nome?juliana\n",
            "qual é o sua idade ?35\n",
            "qual é o seu peso? 68\n",
            "juliana 35 68\n"
          ],
          "name": "stdout"
        }
      ]
    },
    {
      "cell_type": "code",
      "metadata": {
        "colab": {
          "base_uri": "https://localhost:8080/"
        },
        "id": "CuzPZYdXxyzR",
        "outputId": "7ebe8744-6be8-4e48-eeba-d347241f9389"
      },
      "source": [
        "nome = input ('qual é o seu nome?')\n",
        "idade = input ('qual é o sua idade ?')\n",
        "peso = input ('qual é o seu peso? ')\n",
        "print('Seja bem Vinda',nome) "
      ],
      "execution_count": null,
      "outputs": [
        {
          "output_type": "stream",
          "text": [
            "qual é o seu nome?juliana\n",
            "qual é o sua idade ?35\n",
            "qual é o seu peso? 68\n",
            "Seja bem Vinda juliana\n"
          ],
          "name": "stdout"
        }
      ]
    },
    {
      "cell_type": "code",
      "metadata": {
        "colab": {
          "base_uri": "https://localhost:8080/"
        },
        "id": "DL7VWYnMy_JT",
        "outputId": "1d8d239a-371d-44be-fdfc-10089571a119"
      },
      "source": [
        "dia=input('Que dia você nasceu? ')\n",
        "mes = input ( 'que mês você nasceu?')\n",
        "ano=input ('que ano você nasceu?')\n",
        "print('Você nasceu no dia', dia, 'de', mes, 'de', ano, '. Correto?')\n"
      ],
      "execution_count": null,
      "outputs": [
        {
          "output_type": "stream",
          "text": [
            "Que dia você nasceu? 01\n",
            "que mês você nasceu?marco\n",
            "que ano você nasceu?1986\n",
            "Você nasceu no dia 01 de marco de 1986 . Correto?\n"
          ],
          "name": "stdout"
        }
      ]
    },
    {
      "cell_type": "code",
      "metadata": {
        "colab": {
          "base_uri": "https://localhost:8080/"
        },
        "id": "DkyBw8_kx8GB",
        "outputId": "aa0e1112-6d05-4377-a41f-5db6c84b5223"
      },
      "source": [
        "primeiroNumero= int (input('Digite um número: '))\n",
        "segundoNumero=int (input('Digite o segundo número: '))\n",
        "somaDosNumeros = primeiroNumero + segundoNumero\n",
        "#print('A soma entre, ',primeiroNumero, 'e', segundoNumero, 'vale {}'.format(somaDosNumeros)) \n",
        "print('A soma entre {} e {} é {}'.format(primeiroNumero, segundoNumero, somaDosNumeros))"
      ],
      "execution_count": null,
      "outputs": [
        {
          "output_type": "stream",
          "text": [
            "Digite um número: 45\n",
            "Digite o segundo número: 45\n",
            "A soma entre 45 e 45 é 90\n"
          ],
          "name": "stdout"
        }
      ]
    },
    {
      "cell_type": "markdown",
      "metadata": {
        "id": "ojUcZsfSmKZB"
      },
      "source": [
        "NOVO EXERCICIO\n"
      ]
    },
    {
      "cell_type": "code",
      "metadata": {
        "id": "pFVeUMLWmNxA"
      },
      "source": [
        ""
      ],
      "execution_count": null,
      "outputs": []
    },
    {
      "cell_type": "code",
      "metadata": {
        "colab": {
          "base_uri": "https://localhost:8080/"
        },
        "id": "6jKZqBkSmN6U",
        "outputId": "652a991a-62d5-4781-851c-75f9bc2f1da0"
      },
      "source": [
        "n=input('Digite um valor: ')\n",
        "#print(n.isalpha())\n",
        "#print(n.isnumeric())\n",
        "#print(n.isalnum())"
      ],
      "execution_count": null,
      "outputs": [
        {
          "output_type": "stream",
          "text": [
            "Digite um valor: *\n",
            "False\n"
          ],
          "name": "stdout"
        }
      ]
    }
  ]
}