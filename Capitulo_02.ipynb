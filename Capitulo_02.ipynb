{
  "nbformat": 4,
  "nbformat_minor": 0,
  "metadata": {
    "colab": {
      "name": "Capitulo_02.ipynb",
      "provenance": [],
      "authorship_tag": "ABX9TyN12oGxgPcNvwQhbSk4p9PL",
      "include_colab_link": true
    },
    "kernelspec": {
      "name": "python3",
      "display_name": "Python 3"
    }
  },
  "cells": [
    {
      "cell_type": "markdown",
      "metadata": {
        "id": "view-in-github",
        "colab_type": "text"
      },
      "source": [
        "<a href=\"https://colab.research.google.com/github/julianafmotta/ada/blob/master/Capitulo_02.ipynb\" target=\"_parent\"><img src=\"https://colab.research.google.com/assets/colab-badge.svg\" alt=\"Open In Colab\"/></a>"
      ]
    },
    {
      "cell_type": "code",
      "metadata": {
        "id": "6RsdXvRpN3n-",
        "colab": {
          "base_uri": "https://localhost:8080/"
        },
        "outputId": "8500b3d9-d715-4aba-89c6-d191f19678ec"
      },
      "source": [
        "#expressoes booleanas retorna true or false\n",
        "nome = input(\"Digite seu nome:\")\n",
        "#print(len(nome)) mas eu posso utilizar uma if\n",
        "if len(nome) > 20: #aqui dentro sempre sera verdadeira \n",
        "  print(\"O nome deve ter no maximo 20 caracteres!\") \n",
        "  nome = input(\"Digite seu nome:\") #estas duas linhas so serao executadas se for true estao com identacao espaco no comeco\n",
        "print(\"Nome Digitado :{}\".format(nome)) #esta linha sempre sera executada se o programa for escrito desta forma\n"
      ],
      "execution_count": null,
      "outputs": [
        {
          "output_type": "stream",
          "text": [
            "Digite seu nome:juliana ferreira motta\n",
            "O nome deve ter no maximo 20 caracteres!\n",
            "Digite seu nome:juliana\n",
            "Nome Digitado :juliana\n"
          ],
          "name": "stdout"
        }
      ]
    },
    {
      "cell_type": "code",
      "metadata": {
        "id": "bEffsiE1QArB",
        "colab": {
          "base_uri": "https://localhost:8080/"
        },
        "outputId": "cf5551bc-73ae-4d1e-e4ce-a09f3f13f9d7"
      },
      "source": [
        "usuario = input(\"Digite o seu usuario\")\n",
        "senha = input(\"Digite a sua senha\")\n",
        "if (usuario==\"Juliana\")and(senha==\"secreto\"):\n",
        "  print(\"Parabéns, você tem acesso ao sistema!!\")\n",
        "else:\n",
        "  print(\"Usuário ou senha inválidos\")\n",
        "\n",
        " "
      ],
      "execution_count": null,
      "outputs": [
        {
          "output_type": "stream",
          "text": [
            "Digite o seu usuarioJuliana\n",
            "Digite a sua senhasecreto\n",
            "Parabéns, você tem acesso ao sistema!!\n"
          ],
          "name": "stdout"
        }
      ]
    },
    {
      "cell_type": "code",
      "metadata": {
        "id": "vg3HL-k3THFk",
        "colab": {
          "base_uri": "https://localhost:8080/"
        },
        "outputId": "33803d03-fab5-46da-be47-681385a539cd"
      },
      "source": [
        "#tem carteira de moto criacao de variavel\n",
        "#tem carteira de carro serao criacoes de variaveis\n",
        "#se voce tiver carteira de carro, voce entao seu nivel é igual a 1\n",
        "#se tiver carteira de moto entao seu nivel é o 2\n",
        "#se tiver a carteira de carro e de moto seu nivel é 3\n",
        "#irei criar uma algoritmo para calcular o nivel do funcionario\n",
        "questao = input(\"Você tem carteira de moto (S/N)?\")\n",
        "carteira_moto = (questao.upper()==\"S\")or(questao.upper()==\"SIM\");\n",
        "questao = input(\"Você tem carteira de carro (S/N)?\")\n",
        "carteira_carro = (questao.upper()==\"S\")or(questao.upper()==\"SIM\");\n",
        "if (carteira_carro)and(not(carteira_moto)):\n",
        "  print(\"Voce esta no nivel 1\")\n",
        "elif (not(carteira_carro))and(carteira_moto):\n",
        "  print(\"Voce esta no nivel 2\")\n",
        "elif (carteira_carro)and(carteira_moto):\n",
        "  print(\"Voce esta no nivel 3\")  \n",
        "\n"
      ],
      "execution_count": null,
      "outputs": [
        {
          "output_type": "stream",
          "text": [
            "Você tem carteira de moto (S/N)?SIM\n",
            "Você tem carteira de carro (S/N)?Não\n",
            "Voce esta no nivel 2\n"
          ],
          "name": "stdout"
        }
      ]
    },
    {
      "cell_type": "code",
      "metadata": {
        "id": "wu_RKc7XifWl",
        "colab": {
          "base_uri": "https://localhost:8080/"
        },
        "outputId": "240d1a54-3e17-4b89-e2ff-cb95252895b8"
      },
      "source": [
        "#primeiro_emprego?\n",
        "#tem alguma carteira\n",
        "#quero saber se ele tem vaga ou não na empresa\n",
        "#Ele tem vaga se é o primeiro emprego OU ele já tem alguma habilitação\n",
        "questao = input(\"Esse é seu primeiro emprego (S/N)?\")\n",
        "primeiro_emprego = (questao.upper()==\"S\")or(questao.upper()==\"SIM\");\n",
        "questao = input(\"Você tem habilitação(S/N)?\")\n",
        "habilitacao = (questao.upper()==\"S\")or(questao.upper()==\"SIM\");\n",
        "if (primeiro_emprego)or(habilitacao):\n",
        "  print(\"Você pode trabalhar na nossa empresa\")\n",
        "else:\n",
        "  print(\"Desculpe, não há vagas para você!\")  "
      ],
      "execution_count": null,
      "outputs": [
        {
          "output_type": "stream",
          "text": [
            "Esse é seu primeiro emprego (S/N)?nao\n",
            "Você tem habilitação(S/N)?nao\n",
            "Desculpe, não há vagas para você!\n"
          ],
          "name": "stdout"
        }
      ]
    },
    {
      "cell_type": "code",
      "metadata": {
        "id": "4Jtr73XAGpQa",
        "colab": {
          "base_uri": "https://localhost:8080/"
        },
        "outputId": "ef1530e8-3425-48be-9567-ffdda055add9"
      },
      "source": [
        "# Jogo de Dados\n",
        "# Escolho o valor entre 1 e 6\n",
        "# Escolho quanto quero apostar Máximo 100 (valor que tenho no bolso) - ok\n",
        "# Jogo 2 dados\n",
        "# Se 1 dado igual ganho 2 vezes o valor apostado\n",
        "# Se 2 dados derem iguais ganho 10 vezes o valor apostado\n",
        "# Se não der nenhum dado igual perco meu dinheiro\n",
        "#poderia fazer assim : questao = input(\"Qual número você aposta?\"), mas o codigo fica mais bonito da forma abaixo\n",
        "# faco um float na segunda pois o valor nao precisa ser inteiro\n",
        "# gerar um numero aleatoio randrange não é uma funcao pronta, deve-se importar esta funcao  from random import e insere o nome da funcao\n",
        "from random import randrange\n",
        "bolso = 100\n",
        "numero_apostado = int(input(\"Qual número você aposta?\"))\n",
        "valor_aposta = float(input(\"Qual o valor da aposta?\"))\n",
        "if valor_aposta>bolso:\n",
        "  print(\"Voê não tem esse dinnheiro\")\n",
        "else:  \n",
        "  bolso = bolso - valor_aposta\n",
        "  dado1 = randrange(1,6)\n",
        "  dado2 = randrange(1,6)\n",
        "  mensagem_ganho = \"Você ganhou {} e agora está com {}\"\n",
        "  print(\"Sorteados os dodos {} e {}\".format(dado1,dado2))\n",
        "  resultado = 0 \n",
        "  if (dado1==numero_apostado)and(dado2==numero_apostado):\n",
        "    resultado = valor_aposta * 10\n",
        "    bolso = resultado + bolso \n",
        "    print(\"Você ganhou {} e agora está com {}\".format(resultado,bolso))\n",
        "  elif (dado1==numero_apostado)or(dado2==numero_apostado):\n",
        "    resultado = valor_aposta * 2  \n",
        "    bolso = resultado + bolso\n",
        "    print(\"Você ganhou {} e agora está com {}\".format(resultado,bolso))\n",
        "  else:\n",
        "    print(\"Você errou. Agora tem no bolso {}\".format(bolso))  \n"
      ],
      "execution_count": null,
      "outputs": [
        {
          "output_type": "stream",
          "text": [
            "Qual número você aposta?2\n",
            "Qual o valor da aposta?300\n",
            "Voê não tem esse dinnheiro\n"
          ],
          "name": "stdout"
        }
      ]
    },
    {
      "cell_type": "code",
      "metadata": {
        "id": "uXG2UJMgNljZ",
        "colab": {
          "base_uri": "https://localhost:8080/"
        },
        "outputId": "37fb0b56-5d88-4ba9-fb8f-9292a02b28fe"
      },
      "source": [
        "# Cálculo do IMC\n",
        "# Fórmula IMC = peso / (altura**2)\n",
        "# abaixo 17 => muito abaixo do peso\n",
        "# entre 17 e 18.5 => abixo do peso\n",
        "# entre 18.5 e 25 => peso normal\n",
        "# entre 25 e 30  => acima do peso\n",
        "# entre 30 e 35 => obesidade grau I\n",
        "# entre 35 e 40 => obesidade grau II\n",
        "# acima de 40 => obesidade mórbida\n",
        "\n",
        "print(\"Olá, vamos ajudar você a ficar mais saudável. Primeiro precisamos saber o seu IMC\")\n",
        "peso = float(input(\"Digite o seu peso\"))\n",
        "altura = float(input(\"Digite a sua altura\"))\n",
        "imc = peso / (altura**2)\n",
        "print(\"Seu IMC é {}\".format(imc))\n",
        "if imc < 17:\n",
        "  print(\"Você está muito abaixo do peso\")\n",
        "elif (imc >= 17)and(imc < 18.5):\n",
        "  print(\"Você está no abaixo do peso\")\n",
        "elif (imc >= 18.5)and(imc < 25):\n",
        "  print(\"Você está no peso normal\")\n",
        "elif (imc >= 25)and(imc < 30):\n",
        "  print(\"Você está acima do peso\")\n",
        "elif (imc >= 30)and(imc < 35):\n",
        "  print(\"Você está com obesidade grau I\")\n",
        "elif (imc >= 35)and(imc < 40):\n",
        "  print(\"Você está com obesidade grau II\")\n",
        "elif (imc > 40):\n",
        "  print(\"Cuidado!!! Você está com obesidade mórbida\")\n"
      ],
      "execution_count": null,
      "outputs": [
        {
          "output_type": "stream",
          "text": [
            "Olá, vamos ajudar você a ficar mais saudável. Primeiro precisamos saber o seu IMC\n",
            "Digite o seu peso 74.5\n",
            "Digite a sua altura 1.62\n",
            "Seu IMC é 28.387440938881262\n",
            "Você está acima do peso\n"
          ],
          "name": "stdout"
        }
      ]
    },
    {
      "cell_type": "code",
      "metadata": {
        "id": "7cZX2GnCLoU1"
      },
      "source": [
        ""
      ],
      "execution_count": null,
      "outputs": []
    }
  ]
}